{
  "cells": [
    {
      "cell_type": "code",
      "execution_count": null,
      "metadata": {
        "id": "2MDpYI_ImOZ1"
      },
      "outputs": [],
      "source": [
        "import gensim\n",
        "import numpy as np\n",
        "import pandas as pd\n",
        "\n"
      ]
    },
    {
      "cell_type": "code",
      "execution_count": null,
      "metadata": {
        "id": "OjPh4LvtmRet"
      },
      "outputs": [],
      "source": [
        "from sklearn.model_selection import train_test_split\n",
        "pd.set_option('display.max_colwidth', 100)"
      ]
    },
    {
      "cell_type": "code",
      "execution_count": null,
      "metadata": {
        "colab": {
          "base_uri": "https://localhost:8080/"
        },
        "id": "yQ_qmVH-mUEJ",
        "outputId": "7a530e13-2014-4c01-9e92-5a0ab215e152"
      },
      "outputs": [],
      "source": [
        "from google.colab import drive\n",
        "drive.mount('/content/gdrive')\n"
      ]
    },
    {
      "cell_type": "code",
      "execution_count": null,
      "metadata": {
        "colab": {
          "base_uri": "https://localhost:8080/"
        },
        "id": "209fsDWNA-Wd",
        "outputId": "7d80f877-7cf7-4a0e-a541-a4413987f9b5"
      },
      "outputs": [],
      "source": [
        "! ls"
      ]
    },
    {
      "cell_type": "code",
      "execution_count": null,
      "metadata": {
        "colab": {
          "base_uri": "https://localhost:8080/"
        },
        "id": "VgkPVmA4BUme",
        "outputId": "31283de0-6051-46ef-e425-b1fff0793b81"
      },
      "outputs": [],
      "source": [
        "%cd gdrive/My Drive/Colab Notebooks/Webpages_Classification_test_data.csv"
      ]
    },
    {
      "cell_type": "code",
      "execution_count": null,
      "metadata": {
        "colab": {
          "base_uri": "https://localhost:8080/",
          "height": 528
        },
        "id": "OPe5pS_Ym-hA",
        "outputId": "08ef38e5-3296-434f-b435-30d09553768f"
      },
      "outputs": [],
      "source": [
        "messages = pd.read_csv('Webpages_Classification_test_data.csv')\n",
        "messages.head()"
      ]
    },
    {
      "cell_type": "code",
      "execution_count": null,
      "metadata": {
        "id": "0BxbUB6jA87r"
      },
      "outputs": [],
      "source": []
    },
    {
      "cell_type": "code",
      "execution_count": null,
      "metadata": {
        "id": "ozRYlpgh9yhU"
      },
      "outputs": [],
      "source": []
    },
    {
      "cell_type": "code",
      "execution_count": null,
      "metadata": {
        "id": "KeMfm5fOI7FX"
      },
      "outputs": [],
      "source": []
    },
    {
      "cell_type": "code",
      "execution_count": null,
      "metadata": {
        "colab": {
          "base_uri": "https://localhost:8080/",
          "height": 206
        },
        "id": "39j-7jI3zogK",
        "outputId": "d21cf31a-3614-4997-b668-b06d9b413b7e"
      },
      "outputs": [],
      "source": [
        "messages = messages.drop(labels = [\"url\",\"url_len\",\"ip_add\",\"geo_loc\",\"tld\",\"who_is\",\"https\",\"js_len\",\"js_obf_len\"], axis = 1)\n",
        "messages.head()\n"
      ]
    },
    {
      "cell_type": "code",
      "execution_count": null,
      "metadata": {
        "id": "Q0-WpWEB0Vgh"
      },
      "outputs": [],
      "source": [
        "messages=messages.iloc[:10000]"
      ]
    },
    {
      "cell_type": "code",
      "execution_count": null,
      "metadata": {
        "colab": {
          "base_uri": "https://localhost:8080/"
        },
        "id": "lAnU-fYO0kVb",
        "outputId": "7de1e0b6-294b-45b2-92e0-4ff98b9f414f"
      },
      "outputs": [],
      "source": [
        "messages.count()"
      ]
    },
    {
      "cell_type": "code",
      "execution_count": null,
      "metadata": {
        "id": "2s3ZiEFx0mID"
      },
      "outputs": [],
      "source": [
        "messages = messages.iloc[: , 1:]"
      ]
    },
    {
      "cell_type": "code",
      "execution_count": null,
      "metadata": {
        "colab": {
          "base_uri": "https://localhost:8080/",
          "height": 206
        },
        "id": "h7YNdLLV09CU",
        "outputId": "93038c49-5199-4ec5-bbfd-d06970343259"
      },
      "outputs": [],
      "source": [
        "messages.head()"
      ]
    },
    {
      "cell_type": "code",
      "execution_count": null,
      "metadata": {
        "colab": {
          "base_uri": "https://localhost:8080/",
          "height": 267
        },
        "id": "dpW_b3t01ATg",
        "outputId": "27c0e65a-a21c-44bf-c869-4be78ba40226"
      },
      "outputs": [],
      "source": [
        "messages['content_clean'] = messages['content'].apply(lambda x: gensim.utils.simple_preprocess(x))\n",
        "messages.head()"
      ]
    },
    {
      "cell_type": "code",
      "execution_count": null,
      "metadata": {
        "id": "qSuPiMFm1DGf"
      },
      "outputs": [],
      "source": [
        "messages['label']=messages['label'].map({'good':1,'bad':0})"
      ]
    },
    {
      "cell_type": "code",
      "execution_count": null,
      "metadata": {
        "id": "tfYJ59Yj1IJx"
      },
      "outputs": [],
      "source": [
        "X_train, X_test, y_train, y_test = train_test_split (messages['content_clean'], messages['label'] , test_size=0.2)"
      ]
    },
    {
      "cell_type": "code",
      "execution_count": null,
      "metadata": {
        "id": "6iV8Y-vs1Kyi"
      },
      "outputs": [],
      "source": [
        "w2v_model = gensim.models.Word2Vec(X_train,\n",
        "                                   vector_size=100,\n",
        "                                   window=5,\n",
        "                                   min_count=2)"
      ]
    },
    {
      "cell_type": "code",
      "execution_count": null,
      "metadata": {
        "colab": {
          "base_uri": "https://localhost:8080/"
        },
        "id": "_CcxXdOo1Osi",
        "outputId": "c8a397c2-90bb-468a-8adf-77e0e310e6d8"
      },
      "outputs": [],
      "source": [
        "w2v_model.wv.index_to_key"
      ]
    },
    {
      "cell_type": "code",
      "execution_count": null,
      "metadata": {
        "colab": {
          "base_uri": "https://localhost:8080/"
        },
        "id": "vS4P63RD2hOK",
        "outputId": "3e2b790f-f2f8-49b1-934e-4c8dde89f1d1"
      },
      "outputs": [],
      "source": [
        "print(gensim.__version__)"
      ]
    },
    {
      "cell_type": "code",
      "execution_count": null,
      "metadata": {
        "colab": {
          "base_uri": "https://localhost:8080/"
        },
        "id": "1HIJjSbm3C9-",
        "outputId": "a1a57a5a-3be0-46c7-8043-2ea4efe87715"
      },
      "outputs": [],
      "source": [
        "!pip install gensim"
      ]
    },
    {
      "cell_type": "code",
      "execution_count": null,
      "metadata": {
        "colab": {
          "base_uri": "https://localhost:8080/"
        },
        "id": "27ulBLda3cpz",
        "outputId": "6736644f-3c8d-458b-99ec-aa4fe551fa9d"
      },
      "outputs": [],
      "source": [
        "print(gensim.__version__)"
      ]
    },
    {
      "cell_type": "code",
      "execution_count": null,
      "metadata": {
        "colab": {
          "base_uri": "https://localhost:8080/",
          "height": 359
        },
        "id": "BaCkU6N03hIg",
        "outputId": "fc5afd01-4371-4477-96f9-c70c10391a29"
      },
      "outputs": [],
      "source": [
        "!pip install --upgrade gensim"
      ]
    },
    {
      "cell_type": "code",
      "execution_count": null,
      "metadata": {
        "colab": {
          "base_uri": "https://localhost:8080/"
        },
        "id": "qj4kMlqO3pBr",
        "outputId": "466bfd4a-55c3-4f1c-dd5b-6d121676ad32"
      },
      "outputs": [],
      "source": [
        "words = set(w2v_model.wv.index_to_key )\n",
        "X_train_vect = np.array([np.array([w2v_model.wv[i] for i in ls if i in words])\n",
        "                         for ls in X_train])\n",
        "X_test_vect = np.array([np.array([w2v_model.wv[i] for i in ls if i in words])\n",
        "                         for ls in X_test])"
      ]
    },
    {
      "cell_type": "code",
      "execution_count": null,
      "metadata": {
        "colab": {
          "base_uri": "https://localhost:8080/"
        },
        "id": "GGQ0YzQpDzrD",
        "outputId": "57ba76db-9891-4215-8bd2-9e36759e1eb5"
      },
      "outputs": [],
      "source": [
        "for i, v in enumerate(X_train_vect):\n",
        "    print(len(X_train.iloc[i]), len(v))"
      ]
    },
    {
      "cell_type": "code",
      "execution_count": null,
      "metadata": {
        "id": "sOleh1R7D2pX"
      },
      "outputs": [],
      "source": [
        "X_train_vect_avg = []\n",
        "for v in X_train_vect:\n",
        "    if v.size:\n",
        "        X_train_vect_avg.append(v.mean(axis=0))\n",
        "    else:\n",
        "        X_train_vect_avg.append(np.zeros(75, dtype=float))\n",
        "        \n",
        "X_test_vect_avg = []\n",
        "for v in X_test_vect:\n",
        "    if v.size:\n",
        "        X_test_vect_avg.append(v.mean(axis=0))\n",
        "    else:\n",
        "        X_test_vect_avg.append(np.zeros(75, dtype=float))"
      ]
    },
    {
      "cell_type": "code",
      "execution_count": null,
      "metadata": {
        "colab": {
          "base_uri": "https://localhost:8080/"
        },
        "id": "MwCkc3jTD6Fk",
        "outputId": "1b415e63-77ba-4c7d-b107-6140d085cae9"
      },
      "outputs": [],
      "source": [
        "for i, v in enumerate(X_train_vect_avg):\n",
        "    print(len(X_train.iloc[i]), len(v))"
      ]
    },
    {
      "cell_type": "code",
      "execution_count": null,
      "metadata": {
        "id": "CV-z6FDFD8y_"
      },
      "outputs": [],
      "source": [
        "from sklearn.ensemble import RandomForestClassifier\n",
        "rf = RandomForestClassifier()\n",
        "rf_model = rf.fit(X_train_vect_avg, y_train.values.ravel())"
      ]
    },
    {
      "cell_type": "code",
      "execution_count": null,
      "metadata": {
        "id": "vrpTPu3ZEC-q"
      },
      "outputs": [],
      "source": [
        "y_pred = rf_model.predict(X_test_vect_avg)"
      ]
    },
    {
      "cell_type": "code",
      "execution_count": null,
      "metadata": {
        "colab": {
          "base_uri": "https://localhost:8080/"
        },
        "id": "Ky233zlsEK1o",
        "outputId": "2cd92646-fe30-4766-baed-7e0632090866"
      },
      "outputs": [],
      "source": [
        "from sklearn.metrics import precision_score, recall_score\n",
        "precision = precision_score(y_test, y_pred)\n",
        "recall = recall_score(y_test, y_pred)\n",
        "print('Precision: {} / Recall: {} / Accuracy: {}'.format(\n",
        "    round(precision, 3), round(recall, 3), round((y_pred==y_test).sum()/len(y_pred), 3)))"
      ]
    },
    {
      "cell_type": "code",
      "execution_count": null,
      "metadata": {
        "id": "DDwR26nVENpg"
      },
      "outputs": [],
      "source": []
    }
  ],
  "metadata": {
    "colab": {
      "provenance": []
    },
    "kernelspec": {
      "display_name": "Python 3",
      "name": "python3"
    },
    "language_info": {
      "name": "python"
    }
  },
  "nbformat": 4,
  "nbformat_minor": 0
}
