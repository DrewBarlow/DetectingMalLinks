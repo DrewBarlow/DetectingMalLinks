{
 "cells": [
  {
   "cell_type": "code",
   "execution_count": null,
   "id": "be91476f",
   "metadata": {},
   "outputs": [],
   "source": [
    "from json import loads\n",
    "LOC_TOKS_PATH = \"../data/data_processed/loctoks.json\"\n",
    "TLD_TOKS_PATH = \"../data/data_processed/tldtoks.json\"\n",
    "TEST_SET_PATH = \"../data/data_processed/test.ldjson\"\n",
    "TRAIN_SET_PATH = \"../data/data_processed/train.ldjson\"\n",
    "\n",
    "def load_toks(fname):\n",
    "    tokens = None\n",
    "\n",
    "    with open(fname, 'r') as file:\n",
    "        tokens = loads(file.read())\n",
    "\n",
    "    return tokens\n",
    "\n",
    "def load_data(fname):\n",
    "    dataset = []\n",
    "\n",
    "    with open(fname, 'r') as file:\n",
    "        line = file.readline()\n",
    "        while line:\n",
    "            dataset.append(loads(line))\n",
    "            line = file.readline()\n",
    "    \n",
    "    return dataset\n",
    "\n",
    "LOC_TOKS = load_toks(LOC_TOKS_PATH)\n",
    "TLD_TOKS = load_toks(TLD_TOKS_PATH)\n",
    "\n",
    "test_objs = load_data(TEST_SET_PATH)\n",
    "train_objs = load_data(TRAIN_SET_PATH)\n",
    "print(len(test_objs), len(train_objs))"
   ]
  },
  {
   "cell_type": "code",
   "execution_count": null,
   "id": "b07c3fd5",
   "metadata": {},
   "outputs": [],
   "source": [
    "test_objs"
   ]
  },
  {
   "cell_type": "code",
   "execution_count": null,
   "id": "e4442b08",
   "metadata": {},
   "outputs": [],
   "source": [
    "import pandas as pd\n",
    "test_df = pd.DataFrame (test_objs)"
   ]
  },
  {
   "cell_type": "code",
   "execution_count": null,
   "id": "e5134a8e",
   "metadata": {},
   "outputs": [],
   "source": [
    "print(test_df)"
   ]
  },
  {
   "cell_type": "code",
   "execution_count": null,
   "id": "b3e015fc",
   "metadata": {},
   "outputs": [],
   "source": [
    "test_df.head()"
   ]
  },
  {
   "cell_type": "code",
   "execution_count": null,
   "id": "a11825b5",
   "metadata": {},
   "outputs": [],
   "source": [
    "train_df = pd.DataFrame (train_objs)"
   ]
  },
  {
   "cell_type": "code",
   "execution_count": null,
   "id": "13cfa164",
   "metadata": {},
   "outputs": [],
   "source": [
    "train_df.head()"
   ]
  },
  {
   "cell_type": "code",
   "execution_count": null,
   "id": "5de76e3d",
   "metadata": {},
   "outputs": [],
   "source": [
    "import seaborn as sns\n",
    "import matplotlib.pyplot as plt"
   ]
  },
  {
   "cell_type": "code",
   "execution_count": null,
   "id": "04443542",
   "metadata": {},
   "outputs": [],
   "source": [
    "test_cor = test_df.corr()\n",
    "test_cor"
   ]
  },
  {
   "cell_type": "code",
   "execution_count": null,
   "id": "a1c75179",
   "metadata": {},
   "outputs": [],
   "source": [
    "plt.figure(figsize = (15,10))\n",
    "sns.heatmap(data = test_cor, annot = True)"
   ]
  },
  {
   "cell_type": "code",
   "execution_count": null,
   "id": "af49353b",
   "metadata": {},
   "outputs": [],
   "source": [
    "train_cor = train_df.corr()\n",
    "train_cor\n",
    "plt.figure(figsize = (15,10))\n",
    "sns.heatmap(data = train_cor, annot = True)"
   ]
  },
  {
   "cell_type": "code",
   "execution_count": null,
   "id": "23e5aab4",
   "metadata": {},
   "outputs": [],
   "source": [
    "import numpy as np\n",
    "# Defining inputs\n",
    "X = np.array([train_df['geo_loc'], train_df['param_len'], train_df['query_len'], train_df['frag_len'], train_df['tld'], train_df['who_is'], train_df['https']]).T\n",
    "Y1 = np.array([train_df['label']]).T"
   ]
  },
  {
   "cell_type": "code",
   "execution_count": null,
   "id": "81557f62",
   "metadata": {},
   "outputs": [],
   "source": [
    "print(X)\n",
    "Y = np.ravel(Y1)\n",
    "print(Y)"
   ]
  },
  {
   "cell_type": "code",
   "execution_count": null,
   "id": "0b4f1ddf",
   "metadata": {},
   "outputs": [],
   "source": [
    "X.shape, Y.shape"
   ]
  },
  {
   "cell_type": "code",
   "execution_count": null,
   "id": "b7b45200",
   "metadata": {},
   "outputs": [],
   "source": [
    "from sklearn.ensemble import RandomForestClassifier\n",
    "from sklearn.metrics import accuracy_score\n",
    "\n",
    "rf = RandomForestClassifier(max_features=5, n_estimators=100)\n"
   ]
  },
  {
   "cell_type": "code",
   "execution_count": null,
   "id": "caf707a7",
   "metadata": {},
   "outputs": [],
   "source": [
    "rf.fit(X, Y)"
   ]
  },
  {
   "cell_type": "code",
   "execution_count": null,
   "id": "e7c17f6b",
   "metadata": {},
   "outputs": [],
   "source": [
    "rf.score(X, Y)"
   ]
  },
  {
   "cell_type": "code",
   "execution_count": null,
   "id": "7429cb7c",
   "metadata": {},
   "outputs": [],
   "source": [
    "from sklearn.model_selection import GridSearchCV\n",
    "import numpy as np\n",
    "\n",
    "max_features_range = np.arange(1,6,1)\n",
    "n_estimators_range = np.arange(10,210,10)\n",
    "param_grid = dict(max_features=max_features_range, n_estimators=n_estimators_range)\n",
    "\n",
    "rf = RandomForestClassifier()\n",
    "\n",
    "grid = GridSearchCV(estimator=rf, param_grid=param_grid, cv=5)"
   ]
  },
  {
   "cell_type": "code",
   "execution_count": null,
   "id": "84451ee9",
   "metadata": {
    "scrolled": false
   },
   "outputs": [],
   "source": [
    "grid.fit(X, Y)                                                                                    "
   ]
  },
  {
   "cell_type": "code",
   "execution_count": null,
   "id": "1a1ebedb",
   "metadata": {},
   "outputs": [],
   "source": [
    "print(\"The best parameters are %s with a score of %0.2f\"% (grid.best_params_, grid.best_score_))"
   ]
  },
  {
   "cell_type": "code",
   "execution_count": null,
   "id": "e2be98c7",
   "metadata": {},
   "outputs": [],
   "source": [
    "import pandas as pd\n",
    "\n",
    "grid_results = pd.concat([pd.DataFrame(grid.cv_results_[\"params\"]),pd.DataFrame(grid.cv_results_[\"mean_test_score\"], columns=[\"Accuracy\"])],axis=1)\n",
    "grid_results.head()"
   ]
  },
  {
   "cell_type": "code",
   "execution_count": null,
   "id": "02f8957b",
   "metadata": {},
   "outputs": [],
   "source": [
    "grid_contour = grid_results.groupby(['max_features','n_estimators']).mean()\n",
    "grid_contour"
   ]
  },
  {
   "cell_type": "code",
   "execution_count": null,
   "id": "56736e5f",
   "metadata": {},
   "outputs": [],
   "source": [
    "grid_reset = grid_contour.reset_index()\n",
    "grid_reset.columns = ['max_features', 'n_estimators', 'Accuracy']\n",
    "grid_pivot = grid_reset.pivot('max_features', 'n_estimators')\n",
    "grid_pivot"
   ]
  },
  {
   "cell_type": "code",
   "execution_count": null,
   "id": "f40385b2",
   "metadata": {},
   "outputs": [],
   "source": [
    "x = grid_pivot.columns.levels[1].values\n",
    "y = grid_pivot.index.values\n",
    "z = grid_pivot.values"
   ]
  },
  {
   "cell_type": "code",
   "execution_count": null,
   "id": "79c257ef",
   "metadata": {},
   "outputs": [],
   "source": [
    "import plotly.graph_objects as go\n",
    "\n",
    "# X and Y axes labels\n",
    "layout = go.Layout(\n",
    "            xaxis=go.layout.XAxis(\n",
    "              title=go.layout.xaxis.Title(\n",
    "              text='n_estimators')\n",
    "             ),\n",
    "             yaxis=go.layout.YAxis(\n",
    "              title=go.layout.yaxis.Title(\n",
    "              text='max_features') \n",
    "            ) )\n",
    "\n",
    "fig = go.Figure(data = [go.Contour(z=z, x=x, y=y)], layout=layout )\n",
    "\n",
    "fig.update_layout(title='Hyperparameter tuning', autosize=False,\n",
    "                  width=500, height=500,\n",
    "                  margin=dict(l=65, r=50, b=65, t=90))\n",
    "\n",
    "fig.show()"
   ]
  },
  {
   "cell_type": "code",
   "execution_count": null,
   "id": "fb705bec",
   "metadata": {},
   "outputs": [],
   "source": [
    "import plotly.graph_objects as go\n",
    "\n",
    "\n",
    "fig = go.Figure(data= [go.Surface(z=z, y=y, x=x)], layout=layout )\n",
    "fig.update_layout(title='Hyperparameter tuning',\n",
    "                  scene = dict(\n",
    "                    xaxis_title='n_estimators',\n",
    "                    yaxis_title='max_features',\n",
    "                    zaxis_title='Accuracy'),\n",
    "                  autosize=False,\n",
    "                  width=800, height=800,\n",
    "                  margin=dict(l=65, r=50, b=65, t=90))\n",
    "fig.show()\n"
   ]
  },
  {
   "cell_type": "code",
   "execution_count": null,
   "id": "333102f5",
   "metadata": {},
   "outputs": [],
   "source": [
    "from sklearn.svm import SVC\n",
    "model_svm = SVC(kernel = \"rbf\", gamma = 1.5)\n",
    "model_svm.fit(X,Y)\n",
    "\n",
    "Y_pred = model_svm.predict(X) "
   ]
  },
  {
   "cell_type": "code",
   "execution_count": null,
   "id": "8c0baf95",
   "metadata": {},
   "outputs": [],
   "source": [
    "from sklearn.metrics import confusion_matrix, classification_report\n",
    "cm = confusion_matrix(Y, Y_pred)\n",
    "#acc = accuracy_score(Y, Y_pred)\n",
    "#F1 = f1_score(Y, Y_pred, average = \"micro\")\n",
    "report = classification_report(Y, Y_pred)"
   ]
  },
  {
   "cell_type": "code",
   "execution_count": null,
   "id": "326d9856",
   "metadata": {},
   "outputs": [],
   "source": [
    "cm"
   ]
  },
  {
   "cell_type": "code",
   "execution_count": null,
   "id": "a70236c2",
   "metadata": {},
   "outputs": [],
   "source": [
    "print(report)"
   ]
  },
  {
   "cell_type": "code",
   "execution_count": null,
   "id": "3fdb9865",
   "metadata": {},
   "outputs": [],
   "source": []
  },
  {
   "cell_type": "code",
   "execution_count": null,
   "id": "8ef998b5",
   "metadata": {},
   "outputs": [],
   "source": []
  }
 ],
 "metadata": {
  "kernelspec": {
   "display_name": "Python 3",
   "language": "python",
   "name": "python3"
  },
  "language_info": {
   "codemirror_mode": {
    "name": "ipython",
    "version": 3
   },
   "file_extension": ".py",
   "mimetype": "text/x-python",
   "name": "python",
   "nbconvert_exporter": "python",
   "pygments_lexer": "ipython3",
   "version": "3.8.10 (default, Nov 14 2022, 12:59:47) \n[GCC 9.4.0]"
  },
  "vscode": {
   "interpreter": {
    "hash": "916dbcbb3f70747c44a77c7bcd40155683ae19c65e1c03b4aa3499c5328201f1"
   }
  }
 },
 "nbformat": 4,
 "nbformat_minor": 5
}
